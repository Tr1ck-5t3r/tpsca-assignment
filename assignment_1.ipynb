{
  "nbformat": 4,
  "nbformat_minor": 0,
  "metadata": {
    "colab": {
      "name": "assignment 1.ipynb",
      "provenance": [],
      "collapsed_sections": []
    },
    "kernelspec": {
      "name": "python3",
      "display_name": "Python 3"
    },
    "language_info": {
      "name": "python"
    }
  },
  "cells": [
    {
      "cell_type": "code",
      "source": [
        "pip install rich"
      ],
      "metadata": {
        "colab": {
          "base_uri": "https://localhost:8080/"
        },
        "id": "afxLy6fkqdAx",
        "outputId": "554abdc3-963b-40e4-9f31-22062e33ba1d"
      },
      "execution_count": 4,
      "outputs": [
        {
          "output_type": "stream",
          "name": "stdout",
          "text": [
            "Looking in indexes: https://pypi.org/simple, https://us-python.pkg.dev/colab-wheels/public/simple/\n",
            "Requirement already satisfied: rich in /usr/local/lib/python3.7/dist-packages (12.5.1)\n",
            "Requirement already satisfied: typing-extensions<5.0,>=4.0.0 in /usr/local/lib/python3.7/dist-packages (from rich) (4.1.1)\n",
            "Requirement already satisfied: pygments<3.0.0,>=2.6.0 in /usr/local/lib/python3.7/dist-packages (from rich) (2.6.1)\n",
            "Requirement already satisfied: commonmark<0.10.0,>=0.9.0 in /usr/local/lib/python3.7/dist-packages (from rich) (0.9.1)\n"
          ]
        }
      ]
    },
    {
      "cell_type": "code",
      "execution_count": 6,
      "metadata": {
        "id": "KKLRX0sy9cQn"
      },
      "outputs": [],
      "source": [
        "import numpy as np\n",
        "import rich as r\n",
        "from IPython.display import clear_output # type: ignore\n",
        "from bokeh.io import output_notebook"
      ]
    },
    {
      "cell_type": "code",
      "source": [
        "to=np.load(\"textout_array.npy\")\n",
        "ti=np.load(\"textin_array.npy\")\n",
        "trace=np.load(\"trace_array.npy\")\n",
        "print(ti.shape,'\\t',to.shape,'\\t',trace.shape)"
      ],
      "metadata": {
        "colab": {
          "base_uri": "https://localhost:8080/"
        },
        "id": "c0r_XA4_-FRB",
        "outputId": "f93952a5-f63e-4749-eabc-d52e1ab53c33"
      },
      "execution_count": 9,
      "outputs": [
        {
          "output_type": "stream",
          "name": "stdout",
          "text": [
            "(1000, 16) \t (1000, 16) \t (1000, 12000)\n"
          ]
        }
      ]
    },
    {
      "cell_type": "code",
      "source": [
        "def sbox(x):\n",
        "  s =  [0x63, 0x7c, 0x77, 0x7b, 0xf2, 0x6b, 0x6f, 0xc5, 0x30, 0x01, 0x67,\n",
        "        0x2b, 0xfe, 0xd7, 0xab, 0x76, 0xca, 0x82, 0xc9, 0x7d, 0xfa, 0x59,\n",
        "        0x47, 0xf0, 0xad, 0xd4, 0xa2, 0xaf, 0x9c, 0xa4, 0x72, 0xc0, 0xb7,\n",
        "        0xfd, 0x93, 0x26, 0x36, 0x3f, 0xf7, 0xcc, 0x34, 0xa5, 0xe5, 0xf1,\n",
        "        0x71, 0xd8, 0x31, 0x15, 0x04, 0xc7, 0x23, 0xc3, 0x18, 0x96, 0x05,\n",
        "        0x9a, 0x07, 0x12, 0x80, 0xe2, 0xeb, 0x27, 0xb2, 0x75, 0x09, 0x83,\n",
        "        0x2c, 0x1a, 0x1b, 0x6e, 0x5a, 0xa0, 0x52, 0x3b, 0xd6, 0xb3, 0x29,\n",
        "        0xe3, 0x2f, 0x84, 0x53, 0xd1, 0x00, 0xed, 0x20, 0xfc, 0xb1, 0x5b,\n",
        "        0x6a, 0xcb, 0xbe, 0x39, 0x4a, 0x4c, 0x58, 0xcf, 0xd0, 0xef, 0xaa,\n",
        "        0xfb, 0x43, 0x4d, 0x33, 0x85, 0x45, 0xf9, 0x02, 0x7f, 0x50, 0x3c,\n",
        "        0x9f, 0xa8, 0x51, 0xa3, 0x40, 0x8f, 0x92, 0x9d, 0x38, 0xf5, 0xbc,\n",
        "        0xb6, 0xda, 0x21, 0x10, 0xff, 0xf3, 0xd2, 0xcd, 0x0c, 0x13, 0xec,\n",
        "        0x5f, 0x97, 0x44, 0x17, 0xc4, 0xa7, 0x7e, 0x3d, 0x64, 0x5d, 0x19,\n",
        "        0x73, 0x60, 0x81, 0x4f, 0xdc, 0x22, 0x2a, 0x90, 0x88, 0x46, 0xee,\n",
        "        0xb8, 0x14, 0xde, 0x5e, 0x0b, 0xdb, 0xe0, 0x32, 0x3a, 0x0a, 0x49,\n",
        "        0x06, 0x24, 0x5c, 0xc2, 0xd3, 0xac, 0x62, 0x91, 0x95, 0xe4, 0x79,\n",
        "        0xe7, 0xc8, 0x37, 0x6d, 0x8d, 0xd5, 0x4e, 0xa9, 0x6c, 0x56, 0xf4,\n",
        "        0xea, 0x65, 0x7a, 0xae, 0x08, 0xba, 0x78, 0x25, 0x2e, 0x1c, 0xa6,\n",
        "        0xb4, 0xc6, 0xe8, 0xdd, 0x74, 0x1f, 0x4b, 0xbd, 0x8b, 0x8a, 0x70,\n",
        "        0x3e, 0xb5, 0x66, 0x48, 0x03, 0xf6, 0x0e, 0x61, 0x35, 0x57, 0xb9,\n",
        "        0x86, 0xc1, 0x1d, 0x9e, 0xe1, 0xf8, 0x98, 0x11, 0x69, 0xd9, 0x8e,\n",
        "        0x94, 0x9b, 0x1e, 0x87, 0xe9, 0xce, 0x55, 0x28, 0xdf, 0x8c, 0xa1,\n",
        "        0x89, 0x0d, 0xbf, 0xe6, 0x42, 0x68, 0x41, 0x99, 0x2d, 0x0f, 0xb0,\n",
        "        0x54, 0xbb, 0x16]\n",
        "  return s[x]\n",
        "\n",
        "def intermediate(pt, keyguess):\n",
        "        return sbox(pt ^ keyguess)\n",
        "    \n",
        "HW = [bin(n).count(\"1\") for n in range(0, 256)]\n",
        "avg_diff = np.zeros(256)\n",
        "keys = []\n",
        "    \n",
        "for sk in range(0, 16):\n",
        "    for kg in range(256):\n",
        "        one_list = []\n",
        "        zero_list = []\n",
        "    \n",
        "        for tn in range(256):\n",
        "           if (intermediate(to[tn][sk], kg) & 1):\n",
        "               one_list.append(trace[tn])\n",
        "           else:\n",
        "               zero_list.append(trace[tn])\n",
        "    \n",
        "        one_avg = np.asarray(one_list).mean(axis=0)\n",
        "        zero_avg = np.asarray(zero_list).mean(axis=0)\n",
        "        avg_diff[kg] = np.max(abs(one_avg - zero_avg))\n",
        "    \n",
        "    guess = np.argsort(avg_diff)[-1]\n",
        "    keys.append(guess)\n",
        "    clear_output(wait=True)\n",
        "    display(keys)"
      ],
      "metadata": {
        "colab": {
          "base_uri": "https://localhost:8080/",
          "height": 34
        },
        "id": "fJ6ugvSLYHAf",
        "outputId": "fe451681-d3fd-407a-f2d4-7f7e01c360d0"
      },
      "execution_count": 10,
      "outputs": [
        {
          "output_type": "display_data",
          "data": {
            "text/plain": [
              "[24, 101, 157, 228, 244, 116, 10, 125, 83, 112, 80, 44, 191, 143, 49, 5]"
            ]
          },
          "metadata": {}
        }
      ]
    }
  ]
}